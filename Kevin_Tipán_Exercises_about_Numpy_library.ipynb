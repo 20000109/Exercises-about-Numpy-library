{
  "nbformat": 4,
  "nbformat_minor": 0,
  "metadata": {
    "colab": {
      "provenance": [],
      "include_colab_link": true
    },
    "kernelspec": {
      "name": "python3",
      "display_name": "Python 3"
    },
    "language_info": {
      "name": "python"
    }
  },
  "cells": [
    {
      "cell_type": "markdown",
      "metadata": {
        "id": "view-in-github",
        "colab_type": "text"
      },
      "source": [
        "<a href=\"https://colab.research.google.com/github/20000109/Exercises-about-Numpy-library/blob/main/Kevin_Tip%C3%A1n_Exercises_about_Numpy_library.ipynb\" target=\"_parent\"><img src=\"https://colab.research.google.com/assets/colab-badge.svg\" alt=\"Open In Colab\"/></a>"
      ]
    },
    {
      "cell_type": "code",
      "execution_count": null,
      "metadata": {
        "colab": {
          "base_uri": "https://localhost:8080/"
        },
        "id": "qnZBF48JHKUO",
        "outputId": "1a9fb5d2-bca0-45b8-c279-915e3cf7951a"
      },
      "outputs": [
        {
          "output_type": "stream",
          "name": "stdout",
          "text": [
            "[1 2 4 5]\n",
            "(4,)\n",
            "(2, 4)\n",
            "[[1 2 3 4]\n",
            " [1 2 3 4]]\n",
            "<class 'numpy.ndarray'>\n",
            "[[0. 0. 0. 0.]\n",
            " [0. 0. 0. 0.]\n",
            " [0. 0. 0. 0.]\n",
            " [0. 0. 0. 0.]]\n",
            "[[5 5 5 5]\n",
            " [5 5 5 5]\n",
            " [5 5 5 5]\n",
            " [5 5 5 5]]\n",
            "[[1. 0. 0. 0.]\n",
            " [0. 1. 0. 0.]\n",
            " [0. 0. 1. 0.]\n",
            " [0. 0. 0. 1.]]\n",
            "[[1. 1. 1. 1.]\n",
            " [1. 1. 1. 1.]\n",
            " [1. 1. 1. 1.]\n",
            " [1. 1. 1. 1.]]\n",
            "(4, 4)\n",
            "[[8.72353022 8.48055555 5.07888002]\n",
            " [9.23173535 0.56365013 3.07645065]\n",
            " [2.93583318 4.38124842 1.0202041 ]]\n"
          ]
        }
      ],
      "source": [
        "import numpy as np\n",
        "\n",
        "aux = np.array([1,2,4,5])\n",
        "print(aux)\n",
        "print(aux.shape)\n",
        "aux = np.array([[1,2,3,4],[1,2,3,4]])\n",
        "print(aux.shape)\n",
        "print(aux)\n",
        "print(type(aux))\n",
        "tmp = np.zeros([4,4])\n",
        "print (tmp)\n",
        "tmp = np.full([4,4],5)\n",
        "print (tmp)\n",
        "tmp = np.eye(4,4)\n",
        "print (tmp)\n",
        "tmp = np.ones([4,4])\n",
        "print (tmp)\n",
        "print (tmp.shape)\n",
        "tmp = 10*np.random.random([3,3])\n",
        "print (tmp)"
      ]
    },
    {
      "cell_type": "code",
      "source": [
        "tmp = 10*np.random.random([3,3])\n",
        "print (tmp)"
      ],
      "metadata": {
        "colab": {
          "base_uri": "https://localhost:8080/"
        },
        "id": "IVee84OESZEn",
        "outputId": "895f8d8a-9d02-413f-fb47-729f8dfcba36"
      },
      "execution_count": null,
      "outputs": [
        {
          "output_type": "stream",
          "name": "stdout",
          "text": [
            "[[2.4762185  0.56987862 2.07195311]\n",
            " [5.37325717 6.92609307 5.61517262]\n",
            " [3.76360205 0.2113081  9.51459267]]\n"
          ]
        }
      ]
    },
    {
      "cell_type": "code",
      "source": [
        "print (tmp[:2,:2])"
      ],
      "metadata": {
        "colab": {
          "base_uri": "https://localhost:8080/"
        },
        "id": "TYq2UsNQSdJf",
        "outputId": "f690e89d-fcf7-4e4e-ea82-2d26533b8822"
      },
      "execution_count": null,
      "outputs": [
        {
          "output_type": "stream",
          "name": "stdout",
          "text": [
            "[[2.4762185  0.56987862]\n",
            " [5.37325717 6.92609307]]\n"
          ]
        }
      ]
    },
    {
      "cell_type": "code",
      "source": [
        "print (tmp[:2,1:3])"
      ],
      "metadata": {
        "colab": {
          "base_uri": "https://localhost:8080/"
        },
        "id": "ENqWtf7ZTGl3",
        "outputId": "c2e0f145-e4a0-47eb-da34-0924e867b64e"
      },
      "execution_count": null,
      "outputs": [
        {
          "output_type": "stream",
          "name": "stdout",
          "text": [
            "[[0.56987862 2.07195311]\n",
            " [6.92609307 5.61517262]]\n"
          ]
        }
      ]
    },
    {
      "cell_type": "code",
      "source": [
        "print (tmp [2,2])"
      ],
      "metadata": {
        "colab": {
          "base_uri": "https://localhost:8080/"
        },
        "id": "NAkHT-RuT9k1",
        "outputId": "5c73ca15-6394-4237-8c0f-5e0aa12f572a"
      },
      "execution_count": null,
      "outputs": [
        {
          "output_type": "stream",
          "name": "stdout",
          "text": [
            "9.514592669718619\n"
          ]
        }
      ]
    },
    {
      "cell_type": "markdown",
      "source": [
        "Filtrar valores con mask"
      ],
      "metadata": {
        "id": "-JooA3HUUtxh"
      }
    },
    {
      "cell_type": "code",
      "source": [
        "mask = tmp>5\n",
        "print (tmp[mask])"
      ],
      "metadata": {
        "colab": {
          "base_uri": "https://localhost:8080/"
        },
        "id": "4ZMo5RfWUSqt",
        "outputId": "080254fa-9a8d-4005-c830-ed5d3b40686a"
      },
      "execution_count": null,
      "outputs": [
        {
          "output_type": "stream",
          "name": "stdout",
          "text": [
            "[5.37325717 6.92609307 5.61517262 9.51459267]\n"
          ]
        }
      ]
    },
    {
      "cell_type": "code",
      "source": [
        "mask = (tmp>=2) & (tmp<=4)\n",
        "print (tmp[mask])"
      ],
      "metadata": {
        "colab": {
          "base_uri": "https://localhost:8080/"
        },
        "id": "LGVkU26eUyYy",
        "outputId": "6a6574df-a5e1-4bf1-ff8c-3a6f430baa19"
      },
      "execution_count": null,
      "outputs": [
        {
          "output_type": "stream",
          "name": "stdout",
          "text": [
            "[2.4762185  2.07195311 3.76360205]\n"
          ]
        }
      ]
    },
    {
      "cell_type": "code",
      "source": [
        "tmp = np.random.randint(0,10,[4,4])\n",
        "print (tmp)"
      ],
      "metadata": {
        "colab": {
          "base_uri": "https://localhost:8080/"
        },
        "id": "qJBDyhscWgP1",
        "outputId": "47822af0-ca58-48b2-e7d8-6edd5c841124"
      },
      "execution_count": null,
      "outputs": [
        {
          "output_type": "stream",
          "name": "stdout",
          "text": [
            "[[5 5 4 2]\n",
            " [0 2 7 1]\n",
            " [1 4 3 2]\n",
            " [1 0 8 0]]\n"
          ]
        }
      ]
    },
    {
      "cell_type": "markdown",
      "source": [
        "Extraer numeros pares"
      ],
      "metadata": {
        "id": "Lkqkwdc2Xmr2"
      }
    },
    {
      "cell_type": "code",
      "source": [
        "nrosEnteros = np.random.randint(0, 10, size=(4, 4))\n",
        "print(nrosEnteros)\n",
        "\n",
        "\n",
        "print('---------------------------')\n",
        "nrosEnteros = nrosEnteros[nrosEnteros % 2 == 0]\n",
        "print(nrosEnteros)\n"
      ],
      "metadata": {
        "id": "Zz0_Y9GPWwy-",
        "colab": {
          "base_uri": "https://localhost:8080/"
        },
        "outputId": "ee58b24e-d35b-42ba-8794-b4a3bd3d1eee"
      },
      "execution_count": null,
      "outputs": [
        {
          "output_type": "stream",
          "name": "stdout",
          "text": [
            "[[5 1 9 7]\n",
            " [3 0 8 8]\n",
            " [2 9 1 1]\n",
            " [5 6 3 5]]\n",
            "---------------------------\n",
            "[0 8 8 2 6]\n"
          ]
        }
      ]
    },
    {
      "cell_type": "code",
      "source": [
        "from numpy.random import MT19937\n",
        "import numpy as np\n",
        "print (\"Matriz 1\")\n",
        "m1 = np.random.randint(1,11,[3,4])\n",
        "print (m1)\n",
        "print (m1.shape)\n",
        "print (\"Matriz 2\")\n",
        "m2 = np.random.randint(1,11,[3,4])\n",
        "print (m2)\n",
        "print (m2.shape)\n",
        "print (\"Suma de matrices\")\n",
        "print (m1 + m2)\n",
        "print (\"Resta de matrices\")\n",
        "print (m1 - m2)\n",
        "print (\"Multiplicacion de matrices\")\n",
        "print (m1 * m2)"
      ],
      "metadata": {
        "colab": {
          "base_uri": "https://localhost:8080/"
        },
        "id": "pBxcx0dW7X_X",
        "outputId": "162727b2-4bef-448a-f39e-7e9ea08fb405"
      },
      "execution_count": 1,
      "outputs": [
        {
          "output_type": "stream",
          "name": "stdout",
          "text": [
            "Matriz 1\n",
            "[[ 1  5  8  5]\n",
            " [ 3  7 10  5]\n",
            " [10 10  3  7]]\n",
            "(3, 4)\n",
            "Matriz 2\n",
            "[[5 7 3 2]\n",
            " [2 8 2 9]\n",
            " [3 3 6 5]]\n",
            "(3, 4)\n",
            "Suma de matrices\n",
            "[[ 6 12 11  7]\n",
            " [ 5 15 12 14]\n",
            " [13 13  9 12]]\n",
            "Resta de matrices\n",
            "[[-4 -2  5  3]\n",
            " [ 1 -1  8 -4]\n",
            " [ 7  7 -3  2]]\n",
            "Multiplicacion de matrices\n",
            "[[ 5 35 24 10]\n",
            " [ 6 56 20 45]\n",
            " [30 30 18 35]]\n"
          ]
        }
      ]
    },
    {
      "cell_type": "code",
      "source": [
        "print (\"Suma de matrices\")\n",
        "print (np.add(m1,m2))\n",
        "print (\"Resta de matrices\")\n",
        "print (np.subtract(m1,m2))\n",
        "print (\"Multiplicacion de matrices\")\n",
        "print (np.multiply(m1,m2))\n",
        "print (\"Division de matrices\")\n",
        "print (np.divide(m1,m2))"
      ],
      "metadata": {
        "colab": {
          "base_uri": "https://localhost:8080/"
        },
        "id": "ng9_Fwuo7bQC",
        "outputId": "7aef7362-014e-424f-8f85-4948950b698d"
      },
      "execution_count": 2,
      "outputs": [
        {
          "output_type": "stream",
          "name": "stdout",
          "text": [
            "Suma de matrices\n",
            "[[ 6 12 11  7]\n",
            " [ 5 15 12 14]\n",
            " [13 13  9 12]]\n",
            "Resta de matrices\n",
            "[[-4 -2  5  3]\n",
            " [ 1 -1  8 -4]\n",
            " [ 7  7 -3  2]]\n",
            "Multiplicacion de matrices\n",
            "[[ 5 35 24 10]\n",
            " [ 6 56 20 45]\n",
            " [30 30 18 35]]\n",
            "Division de matrices\n",
            "[[0.2        0.71428571 2.66666667 2.5       ]\n",
            " [1.5        0.875      5.         0.55555556]\n",
            " [3.33333333 3.33333333 0.5        1.4       ]]\n"
          ]
        }
      ]
    },
    {
      "cell_type": "code",
      "source": [
        "print (\"Matriz 1\")\n",
        "m3 = np.random.randint(1,11,[3,4])\n",
        "print (m3)\n",
        "print (m3.shape)\n",
        "print (\"Matriz 2\")\n",
        "m4 = np.random.randint(1,11,[4,3])\n",
        "print (m4)\n",
        "print (m4.shape)\n",
        "\n",
        "print (np.dot(m3,m4))"
      ],
      "metadata": {
        "colab": {
          "base_uri": "https://localhost:8080/"
        },
        "id": "_tqO-_wH7ee1",
        "outputId": "e6dd0cf6-9e53-46d4-af09-89ae491536b9"
      },
      "execution_count": 3,
      "outputs": [
        {
          "output_type": "stream",
          "name": "stdout",
          "text": [
            "Matriz 1\n",
            "[[10  1  2  9]\n",
            " [ 5  3  7  5]\n",
            " [10  9  2  9]]\n",
            "(3, 4)\n",
            "Matriz 2\n",
            "[[1 1 6]\n",
            " [9 6 2]\n",
            " [8 9 1]\n",
            " [8 1 2]]\n",
            "(4, 3)\n",
            "[[107  43  82]\n",
            " [128  91  53]\n",
            " [179  91  98]]\n"
          ]
        }
      ]
    },
    {
      "cell_type": "code",
      "source": [
        "print (\"Matriz 1\")\n",
        "m5 = np.random.randint(1,11,[2,2])\n",
        "print (m5.shape)\n",
        "print (type (m5))\n",
        "print (m5)\n",
        "print (m5.T)"
      ],
      "metadata": {
        "colab": {
          "base_uri": "https://localhost:8080/"
        },
        "id": "h8Z5tLIA7jlS",
        "outputId": "a7b3c0c2-ec8f-437d-e38b-0826837d0679"
      },
      "execution_count": 4,
      "outputs": [
        {
          "output_type": "stream",
          "name": "stdout",
          "text": [
            "Matriz 1\n",
            "(2, 2)\n",
            "<class 'numpy.ndarray'>\n",
            "[[4 3]\n",
            " [1 3]]\n",
            "[[4 1]\n",
            " [3 3]]\n"
          ]
        }
      ]
    },
    {
      "cell_type": "code",
      "source": [
        "print (\"Matriz 1\")\n",
        "m6 = np.random.randint(1,11,[4,3])\n",
        "m7 = np.array([1,0,2])\n",
        "print (m6.shape)\n",
        "print (m7.shape)\n",
        "m8 = np.empty_like(m6)\n",
        "print (m6)\n",
        "print (m7)\n",
        "print (m8.shape)\n",
        "print (m8)"
      ],
      "metadata": {
        "colab": {
          "base_uri": "https://localhost:8080/"
        },
        "id": "FT8JhSks7mJC",
        "outputId": "86e5298d-ca52-460d-ea5d-0aa42fb984d3"
      },
      "execution_count": 5,
      "outputs": [
        {
          "output_type": "stream",
          "name": "stdout",
          "text": [
            "Matriz 1\n",
            "(4, 3)\n",
            "(3,)\n",
            "[[ 7  5 10]\n",
            " [ 7  9  2]\n",
            " [ 9  9 10]\n",
            " [ 5  9  5]]\n",
            "[1 0 2]\n",
            "(4, 3)\n",
            "[[4596373779694328218 4604608933298662839 4613187218303178069]\n",
            " [4612811918334230528 4609434218613702656 4606056518893174784]\n",
            " [4617315517961601024 4603179219131243634 4614688418178968235]\n",
            " [4614688418178968235 4602678819172646912 4608983858650965606]]\n"
          ]
        }
      ]
    },
    {
      "cell_type": "code",
      "source": [
        "for i in range(4):\n",
        "  m8[i,:]= m6[i,:]+m7\n",
        "print (m6)\n",
        "print (m7)\n",
        "print (m8)"
      ],
      "metadata": {
        "colab": {
          "base_uri": "https://localhost:8080/"
        },
        "id": "_Tdy1iE_7qJy",
        "outputId": "569b0e9a-4964-47e5-c14a-2fc81c19d657"
      },
      "execution_count": 6,
      "outputs": [
        {
          "output_type": "stream",
          "name": "stdout",
          "text": [
            "[[ 7  5 10]\n",
            " [ 7  9  2]\n",
            " [ 9  9 10]\n",
            " [ 5  9  5]]\n",
            "[1 0 2]\n",
            "[[ 8  5 12]\n",
            " [ 8  9  4]\n",
            " [10  9 12]\n",
            " [ 6  9  7]]\n"
          ]
        }
      ]
    },
    {
      "cell_type": "code",
      "source": [
        "a = np.array([1,2,3])\n",
        "print (a)\n",
        "b = np.tile(a,(6,1))\n",
        "print (b)\n",
        "print (b.shape)"
      ],
      "metadata": {
        "colab": {
          "base_uri": "https://localhost:8080/"
        },
        "id": "Wk0bZJGj7p_f",
        "outputId": "00942802-629b-4fba-9822-48fc812707a2"
      },
      "execution_count": 7,
      "outputs": [
        {
          "output_type": "stream",
          "name": "stdout",
          "text": [
            "[1 2 3]\n",
            "[[1 2 3]\n",
            " [1 2 3]\n",
            " [1 2 3]\n",
            " [1 2 3]\n",
            " [1 2 3]\n",
            " [1 2 3]]\n",
            "(6, 3)\n"
          ]
        }
      ]
    },
    {
      "cell_type": "code",
      "source": [
        "m1 = np.random.randint(20,30,[6,6])\n",
        "print (m1)"
      ],
      "metadata": {
        "colab": {
          "base_uri": "https://localhost:8080/"
        },
        "id": "ZoT__9Ml7ufT",
        "outputId": "889175a0-6012-4b3e-8e48-223b66d6441e"
      },
      "execution_count": 8,
      "outputs": [
        {
          "output_type": "stream",
          "name": "stdout",
          "text": [
            "[[26 23 25 24 21 20]\n",
            " [22 27 29 20 26 28]\n",
            " [28 20 27 26 26 21]\n",
            " [21 26 21 25 26 25]\n",
            " [29 21 21 26 22 23]\n",
            " [24 28 23 24 29 25]]\n"
          ]
        }
      ]
    },
    {
      "cell_type": "code",
      "source": [
        "print('Matriz A')\n",
        "A = np.array([1,2,3])\n",
        "\n",
        "print(A)\n",
        "\n",
        "print(' ')\n",
        "print('----------------------------------------------------------')\n",
        "print(' ')\n",
        "\n",
        "print('Matriz B')\n",
        "B = np.array([1,2,3])\n",
        "matriz = np.tile(B, (6, 1))\n",
        "print(matriz)\n",
        "\n",
        "print(' ')\n",
        "print('---------------------------------------------------------')\n",
        "print(' ')\n",
        "\n",
        "print('Matriz C')\n",
        "C = np.random.randint(0, 11, size=(6, 6))\n",
        "print(C)\n",
        "promedio = np.mean(C)\n",
        "print(' ')\n",
        "print('Promedio')\n",
        "print(promedio)\n",
        "\n",
        "print(' ')\n",
        "print('------------------------------------------------------------')\n",
        "print(' ')\n",
        "\n",
        "promedio1 = np.mean(C, axis=1)\n",
        "print(' ')\n",
        "print('Promedio por filas')\n",
        "print(promedio1)\n",
        "\n",
        "print(' ')\n",
        "print('-------------------------------------------------------------')\n",
        "print(' ')\n",
        "\n",
        "promedio2 = np.mean(C, axis=0)\n",
        "print(' ')\n",
        "print('Promedio por columnas')\n",
        "print(promedio2)"
      ],
      "metadata": {
        "colab": {
          "base_uri": "https://localhost:8080/"
        },
        "id": "c18VrnQS70Rv",
        "outputId": "67633ebe-e511-405d-b8ba-11e862bc80ee"
      },
      "execution_count": 9,
      "outputs": [
        {
          "output_type": "stream",
          "name": "stdout",
          "text": [
            "Matriz A\n",
            "[1 2 3]\n",
            " \n",
            "----------------------------------------------------------\n",
            " \n",
            "Matriz B\n",
            "[[1 2 3]\n",
            " [1 2 3]\n",
            " [1 2 3]\n",
            " [1 2 3]\n",
            " [1 2 3]\n",
            " [1 2 3]]\n",
            " \n",
            "---------------------------------------------------------\n",
            " \n",
            "Matriz C\n",
            "[[ 1  1  2  4  6  0]\n",
            " [ 2  0  5  8  2  1]\n",
            " [ 9  5  7  2  5  8]\n",
            " [ 8 10  6  2  7  7]\n",
            " [ 6  3  5 10  3  6]\n",
            " [10  0  1  1  0  4]]\n",
            " \n",
            "Promedio\n",
            "4.361111111111111\n",
            " \n",
            "------------------------------------------------------------\n",
            " \n",
            " \n",
            "Promedio por filas\n",
            "[2.33333333 3.         6.         6.66666667 5.5        2.66666667]\n",
            " \n",
            "-------------------------------------------------------------\n",
            " \n",
            " \n",
            "Promedio por columnas\n",
            "[6.         3.16666667 4.33333333 4.5        3.83333333 4.33333333]\n"
          ]
        }
      ]
    }
  ]
}